{
 "cells": [
  {
   "cell_type": "code",
   "execution_count": 42,
   "id": "b6078e50-8791-4818-891a-edaa3045a44e",
   "metadata": {
    "id": "b6078e50-8791-4818-891a-edaa3045a44e",
    "scrolled": true
   },
   "outputs": [],
   "source": [
    "import numpy as np\n",
    "import matplotlib.pyplot as plt\n",
    "from tensorflow.keras.datasets import fashion_mnist as mnist\n",
    "(x_train, y_train), (x_test, y_test) = mnist.load_data()"
   ]
  },
  {
   "cell_type": "code",
   "execution_count": 43,
   "id": "1c114fbe-a575-42a7-97ab-9f83a10e1f76",
   "metadata": {
    "id": "1c114fbe-a575-42a7-97ab-9f83a10e1f76"
   },
   "outputs": [],
   "source": [
    "assert x_train.shape == (60000, 28, 28)\n",
    "assert x_test.shape == (10000, 28, 28)\n",
    "assert y_train.shape == (60000,)\n",
    "assert y_test.shape == (10000,)"
   ]
  },
  {
   "cell_type": "code",
   "execution_count": 44,
   "id": "af3d578c-66f5-4be6-a3b7-b5d024a882e5",
   "metadata": {
    "id": "af3d578c-66f5-4be6-a3b7-b5d024a882e5"
   },
   "outputs": [],
   "source": [
    "x_train = x_train.reshape(x_train.shape[0], -1) / 255.0\n",
    "x_test = x_test.reshape(x_test.shape[0], -1) / 255.0"
   ]
  },
  {
   "cell_type": "code",
   "execution_count": 45,
   "id": "b4a769a6-84ae-4311-8022-2f4086b2444f",
   "metadata": {
    "id": "b4a769a6-84ae-4311-8022-2f4086b2444f"
   },
   "outputs": [],
   "source": [
    "def one_hot_encode(y, num_classes):\n",
    "    return np.eye(num_classes)[y]"
   ]
  },
  {
   "cell_type": "code",
   "execution_count": 46,
   "id": "52680bb7-54f1-4437-9014-ad69814c0eee",
   "metadata": {
    "id": "52680bb7-54f1-4437-9014-ad69814c0eee"
   },
   "outputs": [],
   "source": [
    "y_train_encoded = one_hot_encode(y_train, 10)\n",
    "y_test_encoded = one_hot_encode(y_test, 10)"
   ]
  },
  {
   "cell_type": "code",
   "execution_count": 47,
   "id": "68bfa010-174e-4d04-b9ff-44a9be1735b5",
   "metadata": {},
   "outputs": [],
   "source": [
    "class NeuralNetwork:\n",
    "    def __init__(self, input_size, hidden_size, output_size, learning_rate=0.01, l1_lambda=0.0, l2_lambda=0.0):\n",
    "        self.W1 = np.random.randn(input_size, hidden_size) * 0.01\n",
    "        self.b1 = np.zeros((1, hidden_size))\n",
    "        self.W2 = np.random.randn(hidden_size, output_size) * 0.01\n",
    "        self.b2 = np.zeros((1, output_size))\n",
    "        self.learning_rate = learning_rate\n",
    "        self.l1_lambda = l1_lambda\n",
    "        self.l2_lambda = l2_lambda\n",
    "\n",
    "    def softmax(self, x):\n",
    "        exp_x = np.exp(x - np.max(x, axis=1, keepdims=True))\n",
    "        return exp_x / np.sum(exp_x, axis=1, keepdims=True)\n",
    "\n",
    "    def forward(self, X):\n",
    "        self.z1 = np.dot(X, self.W1) + self.b1\n",
    "        self.a1 = np.tanh(self.z1)\n",
    "        self.z2 = np.dot(self.a1, self.W2) + self.b2\n",
    "        self.a2 = self.softmax(self.z2)\n",
    "        return self.a2\n",
    "\n",
    "    def backward(self, X, y, output):\n",
    "        m = X.shape[0]\n",
    "        output_error = output - y\n",
    "        hidden_error = np.dot(output_error, self.W2.T) * (1 - np.tanh(self.z1) ** 2)\n",
    "\n",
    "        dW2 = np.dot(self.a1.T, output_error) / m\n",
    "        db2 = np.sum(output_error, axis=0, keepdims=True) / m\n",
    "        dW1 = np.dot(X.T, hidden_error) / m\n",
    "        db1 = np.sum(hidden_error, axis=0, keepdims=True) / m\n",
    "\n",
    "        # L1 regularization\n",
    "        dW1 += self.l1_lambda * np.sign(self.W1)\n",
    "        dW2 += self.l1_lambda * np.sign(self.W2)\n",
    "\n",
    "        # L2 regularization\n",
    "        dW1 += self.l2_lambda * self.W1\n",
    "        dW2 += self.l2_lambda * self.W2\n",
    "\n",
    "        self.W1 -= self.learning_rate * dW1\n",
    "        self.b1 -= self.learning_rate * db1\n",
    "        self.W2 -= self.learning_rate * dW2\n",
    "        self.b2 -= self.learning_rate * db2\n",
    "\n",
    "    def train(self, X, y, epochs):\n",
    "        for epoch in range(epochs):\n",
    "            output = self.forward(X)\n",
    "            self.backward(X, y, output)\n",
    "            if epoch % 100 == 0:\n",
    "                loss = -np.mean(np.sum(y * np.log(output + 1e-10), axis=1))\n",
    "                print(f\"Epoch {epoch}, Loss: {loss:.4f}\")\n",
    "\n",
    "    def predict(self, X):\n",
    "        output = self.forward(X)\n",
    "        return np.argmax(output, axis=1)"
   ]
  },
  {
   "cell_type": "code",
   "execution_count": 48,
   "id": "d55b1aa5-d8ca-41d5-9714-858a37683f3c",
   "metadata": {
    "id": "d55b1aa5-d8ca-41d5-9714-858a37683f3c"
   },
   "outputs": [],
   "source": [
    "\n",
    "input_size = 784 \n",
    "hidden_size = 64 \n",
    "output_size = 10\n",
    "learning_rate = 0.5\n",
    "epochs = 1000"
   ]
  },
  {
   "cell_type": "code",
   "execution_count": 49,
   "id": "e149f221-b151-47ec-ae51-42af6012e6da",
   "metadata": {
    "colab": {
     "base_uri": "https://localhost:8080/"
    },
    "id": "e149f221-b151-47ec-ae51-42af6012e6da",
    "outputId": "79068c36-9014-4c6d-a5ce-75b93561ec3a",
    "scrolled": true
   },
   "outputs": [
    {
     "name": "stdout",
     "output_type": "stream",
     "text": [
      "Epoch 0, Loss: 2.3029\n",
      "Epoch 100, Loss: 0.6032\n",
      "Epoch 200, Loss: 0.5391\n",
      "Epoch 300, Loss: 0.4643\n",
      "Epoch 400, Loss: 0.4337\n",
      "Epoch 500, Loss: 0.3959\n",
      "Epoch 600, Loss: 0.3950\n",
      "Epoch 700, Loss: 0.3841\n",
      "Epoch 800, Loss: 0.3782\n",
      "Epoch 900, Loss: 0.3581\n"
     ]
    }
   ],
   "source": [
    "nn = NeuralNetwork(input_size, hidden_size, output_size, learning_rate)\n",
    "nn.train(x_train, y_train_encoded, epochs)"
   ]
  },
  {
   "cell_type": "code",
   "execution_count": 50,
   "id": "78460e95-dfe2-4b17-998d-27a8a2ca0c06",
   "metadata": {},
   "outputs": [
    {
     "name": "stdout",
     "output_type": "stream",
     "text": [
      "TestAccuracy:84.54%\n"
     ]
    }
   ],
   "source": [
    "predictions = nn.predict(x_test)\n",
    "accuracy = np.mean(predictions == y_test)\n",
    "print(f'TestAccuracy:{accuracy*100:.2f}%')"
   ]
  },
  {
   "cell_type": "code",
   "execution_count": 51,
   "id": "c5e0859c-d4c9-4398-be4e-2c3f7dfd8c51",
   "metadata": {},
   "outputs": [
    {
     "data": {
      "image/png": "[encoded data removed]",
      "text/plain": [
       "<Figure size 1000x500 with 10 Axes>"
      ]
     },
     "metadata": {},
     "output_type": "display_data"
    }
   ],
   "source": [
    "# Visualize some predictions\n",
    "def plot_predictions(X, y_true, y_pred, num_images=10):\n",
    "    plt.figure(figsize=(10, 5))\n",
    "    for i in range(num_images):\n",
    "        plt.subplot(2, 5, i + 1)\n",
    "        plt.imshow(X[i].reshape(28, 28), cmap='gray')\n",
    "        plt.title(f'True: {y_true[i]}\\nPred: {y_pred[i]}')\n",
    "        plt.axis('off')\n",
    "    plt.tight_layout()\n",
    "    plt.show()\n",
    "\n",
    "# Visualize predictions on test set\n",
    "plot_predictions(x_test, y_test, predictions)"
   ]
  }
 ],
 "metadata": {
  "colab": {
   "provenance": []
  },
  "kernelspec": {
   "display_name": "Python 3 (ipykernel)",
   "language": "python",
   "name": "python3"
  },
  "language_info": {
   "codemirror_mode": {
    "name": "ipython",
    "version": 3
   },
   "file_extension": ".py",
   "mimetype": "text/x-python",
   "name": "python",
   "nbconvert_exporter": "python",
   "pygments_lexer": "ipython3",
   "version": "3.10.12"
  }
 },
 "nbformat": 4,
 "nbformat_minor": 5
}
